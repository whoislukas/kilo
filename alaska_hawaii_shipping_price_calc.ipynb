{
 "cells": [
  {
   "cell_type": "code",
   "execution_count": 112,
   "id": "1388f49e",
   "metadata": {},
   "outputs": [
    {
     "name": "stdout",
     "output_type": "stream",
     "text": [
      "16802.25\n"
     ]
    }
   ],
   "source": [
    "import pandas as pd\n",
    "\n",
    "df = pd.read_csv('z1.csv', low_memory = False,)\n",
    "df_hi = df[['Date Ordered','State', 'Warehouse', 'Shipping Cost', 'Pick & Pack Cost', 'Order Total Profit', 'SKUs', 'Country']]\n",
    "df_hi2 = df_hi.loc[(df_hi['State']) == 'AK']\n",
    "df_q2 = df_hi2.loc[(df_hi2['Date Ordered'] >= '04/01/2020') & (df_hi2['Date Ordered'] <= '06/30/2020') ]\n",
    "                          \n",
    "#df_q2 = df_hi.set_index('Date Ordered')['04/01/2020' :'06/30/2020']\n",
    "#df_q2 = df_hi.loc[df_hi['Date Ordered'] == ['04/01/2020':'06/30/2020']]\n",
    "#df_sorted = df_hi.loc[(df_hi['State'] == 'HI')]\n",
    "#df_sorted.head(100)\n",
    "\n",
    "sumz = df_q2['Order Total Profit'].sum()\n",
    "\n",
    "print(sumz)\n",
    "#df_q2.shape\n",
    "#df_hi2.shape\n"
   ]
  },
  {
   "cell_type": "code",
   "execution_count": 109,
   "id": "6af86aca",
   "metadata": {},
   "outputs": [
    {
     "name": "stdout",
     "output_type": "stream",
     "text": [
      "178738.33000000002\n"
     ]
    }
   ],
   "source": [
    "import pandas as pd\n",
    "\n",
    "df = pd.read_csv('x1.csv', low_memory = False,)\n",
    "df_hi = df[['Date Ordered','State', 'Warehouse', 'Shipping Cost', 'Pick & Pack Cost', 'Order Total Profit', 'SKUs', 'Country']]\n",
    "df_hi2 = df_hi.loc[(df_hi['Country']) == 'Australia']\n",
    "australia_sumz = df_hi2['Order Total Profit'].sum()\n",
    "\n",
    "print(australia_sumz)\n",
    "#df_hi2.head()\n",
    "#df_hi2.shape"
   ]
  }
 ],
 "metadata": {
  "kernelspec": {
   "display_name": "Python 3.8.8 64-bit ('anaconda3': virtualenv)",
   "language": "python",
   "name": "python388jvsc74a57bd0440c49e9a7b13e063fccd096a7d3e26de4bad244b252545ad98c8e08127d2d3a"
  },
  "language_info": {
   "codemirror_mode": {
    "name": "ipython",
    "version": 3
   },
   "file_extension": ".py",
   "mimetype": "text/x-python",
   "name": "python",
   "nbconvert_exporter": "python",
   "pygments_lexer": "ipython3",
   "version": "3.8.8"
  }
 },
 "nbformat": 4,
 "nbformat_minor": 5
}
